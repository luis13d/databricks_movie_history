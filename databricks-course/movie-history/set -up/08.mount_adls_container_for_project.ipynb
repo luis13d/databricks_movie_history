{
 "cells": [
  {
   "cell_type": "markdown",
   "metadata": {
    "application/vnd.databricks.v1+cell": {
     "cellMetadata": {
      "byteLimit": 2048000,
      "rowLimit": 10000
     },
     "inputWidgets": {},
     "nuid": "b762e039-7a11-48ef-bd87-e2e1d860cd03",
     "showTitle": false,
     "tableResultSettingsMap": {},
     "title": ""
    }
   },
   "source": [
    "### Mount (montar) a Azure Data Lake Storage para el projecto\n",
    "1. Obtener el valor del client_id, tenant_id y client_secret del key Vault\n",
    "2. Configurar Spark con APP/Client id , Directory/tenant Id & Secret\n",
    "3. Usar el método \"mount\" de \"utility\" para montar el almacenamiento.\n",
    "4. Explorar otras utilidades del sistema de archivos relacionados con el montaje (list all mounts, unmounts)\n"
   ]
  },
  {
   "cell_type": "code",
   "execution_count": 0,
   "metadata": {
    "application/vnd.databricks.v1+cell": {
     "cellMetadata": {
      "byteLimit": 2048000,
      "rowLimit": 10000
     },
     "inputWidgets": {},
     "nuid": "d04e1dbd-1788-48f6-b864-89e737ccfdeb",
     "showTitle": false,
     "tableResultSettingsMap": {},
     "title": ""
    }
   },
   "outputs": [],
   "source": [
    "def mount_adls(storage_account_name, container_name):\n",
    "    # Obnetner secret key de key vault\n",
    "    client_id = dbutils.secrets.get(scope=\"movie-historyl-secret-scope\",\n",
    "                    key=\"client2-id\")\n",
    "    tenant_id = dbutils.secrets.get(scope=\"movie-historyl-secret-scope\",\n",
    "                    key=\"tenant2-id\")\n",
    "    client_secret = dbutils.secrets.get(scope=\"movie-historyl-secret-scope\", key=\"client-secret\")\n",
    "    \n",
    "    # Establecer configuarciones de Spark\n",
    "    configs = {\"fs.azure.account.auth.type\": \"OAuth\",\n",
    "          \"fs.azure.account.oauth.provider.type\": \"org.apache.hadoop.fs.azurebfs.oauth2.ClientCredsTokenProvider\",\n",
    "          \"fs.azure.account.oauth2.client.id\": client_id,\n",
    "          \"fs.azure.account.oauth2.client.secret\": client_secret,\n",
    "          \"fs.azure.account.oauth2.client.endpoint\": f\"https://login.microsoftonline.com/{tenant_id}/oauth2/token\"}\n",
    "    \n",
    "    # Evaluar  si el montaje ya existe y de ser asi desmontar\n",
    "    if any(mount.mountPoint == f\"/mnt/{storage_account_name}/{container_name}\" for mount in dbutils.fs.mounts()):\n",
    "        dbutils.fs.unmount(f\"/mnt/{storage_account_name}/{container_name}\")\n",
    "\n",
    "    # Mount al contenedor del storage account\n",
    "    dbutils.fs.mount(\n",
    "        source = f\"abfss://{container_name}@{storage_account_name}.dfs.core.windows.net/\",\n",
    "        mount_point = f\"/mnt/{storage_account_name}/{container_name}\",\n",
    "        extra_configs = configs)\n",
    "    # Listar los Mounts\n",
    "    display(dbutils.fs.mounts())\n",
    "\n",
    "# def unmount_adls(storage_account_name, container_name):\n",
    "#     dbutils.fs.unmount(f\"mnt/{storage_account_name}/{container_name}\")\n",
    "#     display(dbutils.fs.mounts())\n"
   ]
  },
  {
   "cell_type": "markdown",
   "metadata": {
    "application/vnd.databricks.v1+cell": {
     "cellMetadata": {},
     "inputWidgets": {},
     "nuid": "eb573d5e-a9e8-4dd6-a999-d368e992888b",
     "showTitle": false,
     "tableResultSettingsMap": {},
     "title": ""
    }
   },
   "source": [
    "#### Montar el contenedor \"bronce\""
   ]
  },
  {
   "cell_type": "code",
   "execution_count": 0,
   "metadata": {
    "application/vnd.databricks.v1+cell": {
     "cellMetadata": {
      "byteLimit": 2048000,
      "rowLimit": 10000
     },
     "inputWidgets": {},
     "nuid": "b5866dd7-69c8-43c2-ac71-37e87f9edb50",
     "showTitle": false,
     "tableResultSettingsMap": {},
     "title": ""
    }
   },
   "outputs": [],
   "source": [
    "mount_adls(\"moviehistoryl\", \"bronce\")"
   ]
  },
  {
   "cell_type": "markdown",
   "metadata": {
    "application/vnd.databricks.v1+cell": {
     "cellMetadata": {},
     "inputWidgets": {},
     "nuid": "b3b0da61-3cab-483c-a339-16c978df327b",
     "showTitle": false,
     "tableResultSettingsMap": {},
     "title": ""
    }
   },
   "source": [
    "%md\n",
    "#### Montar el contenedor \"silver\""
   ]
  },
  {
   "cell_type": "code",
   "execution_count": 0,
   "metadata": {
    "application/vnd.databricks.v1+cell": {
     "cellMetadata": {
      "byteLimit": 2048000,
      "rowLimit": 10000
     },
     "inputWidgets": {},
     "nuid": "7af4539f-80da-47b7-97a4-c3e3be623a5f",
     "showTitle": false,
     "tableResultSettingsMap": {},
     "title": ""
    }
   },
   "outputs": [],
   "source": [
    "mount_adls(\"moviehistoryl\", \"silver\")"
   ]
  },
  {
   "cell_type": "markdown",
   "metadata": {
    "application/vnd.databricks.v1+cell": {
     "cellMetadata": {},
     "inputWidgets": {},
     "nuid": "7b1c3579-1ddd-4d5c-9702-efd307d94fbd",
     "showTitle": false,
     "tableResultSettingsMap": {},
     "title": ""
    }
   },
   "source": [
    "%md\n",
    "%md\n",
    "#### Montar el contenedor \"gold\""
   ]
  },
  {
   "cell_type": "code",
   "execution_count": 0,
   "metadata": {
    "application/vnd.databricks.v1+cell": {
     "cellMetadata": {
      "byteLimit": 2048000,
      "rowLimit": 10000
     },
     "inputWidgets": {},
     "nuid": "169d2497-377c-48fc-971a-ca723570d5b4",
     "showTitle": false,
     "tableResultSettingsMap": {},
     "title": ""
    }
   },
   "outputs": [],
   "source": [
    "mount_adls(\"moviehistoryl\", \"gold\")"
   ]
  },
  {
   "cell_type": "code",
   "execution_count": 0,
   "metadata": {
    "application/vnd.databricks.v1+cell": {
     "cellMetadata": {
      "byteLimit": 2048000,
      "rowLimit": 10000
     },
     "inputWidgets": {},
     "nuid": "33859292-ade9-4029-8b13-221219bf5da1",
     "showTitle": false,
     "tableResultSettingsMap": {},
     "title": ""
    }
   },
   "outputs": [],
   "source": [
    "meta = dbutils.secrets.list(scope=\"movie-historyl-secret-scope\")\n",
    "secrets_names = [n.key for n in meta ]\n",
    "print(secrets_names)"
   ]
  },
  {
   "cell_type": "code",
   "execution_count": 0,
   "metadata": {
    "application/vnd.databricks.v1+cell": {
     "cellMetadata": {
      "byteLimit": 2048000,
      "rowLimit": 10000
     },
     "inputWidgets": {},
     "nuid": "7c06d547-862e-4f72-bf16-9a239a9ccb3e",
     "showTitle": false,
     "tableResultSettingsMap": {},
     "title": ""
    }
   },
   "outputs": [],
   "source": [
    "dbutils.fs.unmount(\"/mnt/moviehistoryl/demo\")"
   ]
  }
 ],
 "metadata": {
  "application/vnd.databricks.v1+notebook": {
   "computePreferences": null,
   "dashboards": [],
   "environmentMetadata": {
    "base_environment": "",
    "environment_version": "2"
   },
   "inputWidgetPreferences": null,
   "language": "python",
   "notebookMetadata": {
    "pythonIndentUnit": 4
   },
   "notebookName": "08.mount_adls_container_for_project",
   "widgets": {}
  },
  "language_info": {
   "name": "python"
  }
 },
 "nbformat": 4,
 "nbformat_minor": 0
}
